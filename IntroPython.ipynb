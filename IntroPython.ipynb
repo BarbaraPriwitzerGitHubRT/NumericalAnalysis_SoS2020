{
 "cells": [
  {
   "cell_type": "markdown",
   "metadata": {},
   "source": [
    "About Python\n",
    "-----------------------------\n",
    "\n",
    "\n",
    "Python is a universal higher programming language. In most cases Python is used as an interpreter language (or script language), i.e. as a sequence of commands that are executed directly. But Python can also be used to compile executable programs, which are usually very fast.\n",
    "\n",
    "Python promotes an easy to read, concise programming style. The language is not structured by brackets, but by indentation.\n",
    "Because of its clear and concise syntax, Python is considered easy to learn.\n",
    "\n",
    "Python supports several programming paradigms, such as object-oriented, aspect-oriented and functional programming.  Python is operated by the Python Software Foundation (PSF), a non-profit member organization that promotes the development of open source technologies related to Python. \n",
    "\n",
    "Python was developed in the early 1990s by Guido van Rossum at the Centrum Wiskunde & Informatica (NL).\n",
    "\n",
    "The name does not originate from the snake genus of the same name, but is a tribute to the British comedy group Monty Python.\n",
    "                                 \n",
    "\n",
    " Python and Jupyter Notebooks\n",
    "-----------------------------------------------                                                           \n",
    "                                                            \n",
    "                                                            \n",
    "For a Jupyter notebook, you either need Python and Jupyter installed locally. Then you can open a Jupyter Notebook locally via your browser, which contains text and Python code. This allows you to work with an interactive script.\n",
    "\n",
    "Or you use Jupyter Notebooks without local installation, then you can open Notebooks via mybinder.org. In this case you execute code via a web kernel without the need for a local installation. In case of longer inactivity (10 min) you will be disconnected from the kernel. Then you can reconnect to the kernel by clicking on the corresponding icon. \n",
    "\n",
    "\n",
    "\n",
    "\n"
   ]
  },
  {
   "cell_type": "markdown",
   "metadata": {},
   "source": [
    "Installation Instructions Anaconda\n",
    "--\n",
    "\n",
    "For a local installation use Anaconda which contains Python, Jupyter and the IDE Spyder.\n",
    "\n",
    "1. To start the installation, click on the following link: [Anaconda Distribution](https://www.anaconda.com/distribution/ \"Download Anaconda\")\n",
    "\n",
    "  * Scroll down to  **Anaconda 2019.10 for Windows Installer**. Click on the **Download** button in the red marked area to download **Python 3.7**.\n",
    "  \n",
    "  \n",
    "2. Once the installer has been fully downloaded, run it to install Anaconda.\n",
    "\n",
    "  * During the installation please leave the **PATH** function disabled.\n",
    "  \n",
    "\n",
    "  \n",
    "3. After the installation is complete, start with some first function of **Python** and **Jupyter** via the following link: [Getting started with Anaconda](https://docs.anaconda.com/anaconda/user-guide/getting-started/ \"First Steps\").\n",
    "\n"
   ]
  },
  {
   "cell_type": "markdown",
   "metadata": {},
   "source": [
    "Running Python code and using Spyder\n",
    "--\n",
    "\n",
    "\n",
    "- The Spyder window is divided into the IPython console and history, variable and file manager  and an editor.\n",
    "- For commenting Python code use #.\n",
    "- You can clear the console using  *clear()*, *del var* deletes the variable *var and  \\%reset clears all variables.\n",
    "\n",
    "\t\n",
    "\t"
   ]
  },
  {
   "cell_type": "markdown",
   "metadata": {},
   "source": [
    "Using variables\n",
    "--\n",
    "\n",
    "- Variables are assigned to the result of a calculation by an equals sign (=).\n",
    "- A variable name must start with a letter or the underscore character.\n",
    "- Spaces, hyphens, and special characters like Umlaute in the file paths  can be misinterpreted.\n",
    "- Some variable names have a predefined meaning in the package numpy. The most important ones are:\n",
    "        - pi: 3.1416...\n",
    "        - e: 2.7182818...\n",
    "        - nan not a number, 0/0\n",
    "        - inf 1/0\n",
    "\n",
    "It is possible to overwrite theses variables: *np.pi=3*.\n"
   ]
  },
  {
   "cell_type": "markdown",
   "metadata": {},
   "source": [
    "Graphics in Python \n",
    "--\n",
    " - Figure are done either inlin in the IPython Console (#matplotlib inline) or in a separater graphics window. Using Spyder it might be necessary to chnage the graphics window option for your IPython console to automatic. \n",
    " - You can close all ggraphics windos using *plt.close('all')*."
   ]
  },
  {
   "cell_type": "markdown",
   "metadata": {},
   "source": [
    "Python Scripts\n",
    "--\n",
    " \n",
    "- Sequences  of commands  can be saved as a script.\n",
    "- Scripts work with the variables in the workspace and also create new variables there.\n",
    "- *run filename* executes the whole script.\n",
    "- The default extension for Python files is \"*.py\".\n",
    "- Scripts can be divided into **sections** by *#%%* for clarity and ease of execution.\n"
   ]
  },
  {
   "cell_type": "markdown",
   "metadata": {},
   "source": [
    "Exercise 1 -   Matrices                        \n",
    "--\n",
    "\n",
    "A matrix\n",
    "$$A=\\begin{pmatrix}\n",
    "a_{11} & a_{12} &\\dots &a_{1m}\\\\\n",
    "a_{21} & a_{22} &\\dots &a_{2m}\\\\\n",
    "\\vdots&\\vdots&\\ddots&\\vdots\\\\\n",
    "a_{n1} & a_{n2} &\\dots &a_{nm}\\\\\n",
    "\\end{pmatrix}\n",
    "$$\n",
    "is defined in Python as follows\n",
    "\n",
    "\n"
   ]
  },
  {
   "cell_type": "code",
   "execution_count": 4,
   "metadata": {},
   "outputs": [
    {
     "name": "stdout",
     "output_type": "stream",
     "text": [
      "[[1 2 2]\n",
      " [2 3 4]]\n"
     ]
    },
    {
     "data": {
      "text/plain": [
       "1"
      ]
     },
     "execution_count": 4,
     "metadata": {},
     "output_type": "execute_result"
    }
   ],
   "source": [
    "import numpy as np  #package numpy enables standard mathematical operations\n",
    "\n",
    "A = np.matrix([[1, 2, 2], [2,3,4]]) # define matrix A\n",
    "print(A) #output in console\n",
    "A[0,0] #element in row 0 and column 0 - Python ALWAYS starts numbering with 0\n"
   ]
  },
  {
   "cell_type": "markdown",
   "metadata": {},
   "source": [
    "Change the element in the first row and last column to 3."
   ]
  },
  {
   "cell_type": "code",
   "execution_count": 9,
   "metadata": {},
   "outputs": [
    {
     "name": "stdout",
     "output_type": "stream",
     "text": [
      "[[1 2 4]\n",
      " [3 4 5]]\n"
     ]
    }
   ],
   "source": []
  },
  {
   "cell_type": "markdown",
   "metadata": {},
   "source": [
    " We define a column vector $v$ and a row vector $w$ to enlarge the matrix $A$ to\n",
    "$$A=\\begin{pmatrix}\n",
    "1&2&3&4\\\\\n",
    "2&3&4&5\\\\\n",
    "3&4&5&6\\\\\n",
    "\\end{pmatrix}\n",
    "$$\n",
    "\n",
    "\n"
   ]
  },
  {
   "cell_type": "code",
   "execution_count": 5,
   "metadata": {},
   "outputs": [
    {
     "name": "stdout",
     "output_type": "stream",
     "text": [
      "[[1 2 2 4]\n",
      " [2 3 4 5]\n",
      " [3 4 5 6]]\n"
     ]
    }
   ],
   "source": [
    "v=np.matrix([[4],[5]])\n",
    "w=np.matrix([3,4,5,6])\n",
    "A=np.vstack((np.hstack((A,v)),w))\n",
    "print(A)\n"
   ]
  },
  {
   "cell_type": "markdown",
   "metadata": {},
   "source": [
    "- Explain the result of the following code lines.\n",
    "\n",
    "- How do you get the third row of $A$?\n"
   ]
  },
  {
   "cell_type": "code",
   "execution_count": 6,
   "metadata": {},
   "outputs": [
    {
     "name": "stdout",
     "output_type": "stream",
     "text": [
      "[[2 5]]\n"
     ]
    }
   ],
   "source": [
    "A[:,1]\n",
    "B=A[[1,2],[0,2]]\n",
    "print(B)"
   ]
  },
  {
   "cell_type": "markdown",
   "metadata": {},
   "source": [
    "Note that using Python you have to distinguish between **functions** and **methods**:\n",
    "\n",
    "- Functions (or procedures)  exits in every programming language. They are a sequence of program instructions that performs a specific task, packaged as a unit. Functions exists independently of any other object and parameters for the function are passed explicitely.\n",
    "- A method is a tool from object-oriented programming. The method depends on the object, for which it is called.\n",
    "\n",
    "Object-oriented progamming helps to keep programs in a modular and structured order.\n",
    "\n",
    "Explain the following results.\n",
    "\n",
    "\n",
    "\n"
   ]
  },
  {
   "cell_type": "code",
   "execution_count": 11,
   "metadata": {},
   "outputs": [
    {
     "name": "stdout",
     "output_type": "stream",
     "text": [
      "12\n",
      "(3, 4)\n",
      "3\n"
     ]
    }
   ],
   "source": [
    "print(A.size)\n",
    "print(A.shape)\n",
    "print(np.size(A,0))\n",
    "print(np.size(A,1))"
   ]
  },
  {
   "cell_type": "markdown",
   "metadata": {},
   "source": [
    "Explain the following. \n",
    "\n",
    "Use numpy functions and methods to determine for each natural number from 1 to 6\n",
    " the probability of it occurring in $A$."
   ]
  },
  {
   "cell_type": "code",
   "execution_count": 14,
   "metadata": {},
   "outputs": [
    {
     "name": "stdout",
     "output_type": "stream",
     "text": [
      "(array([1, 2], dtype=int64), array([1, 0], dtype=int64))\n"
     ]
    },
    {
     "data": {
      "text/plain": [
       "2"
      ]
     },
     "execution_count": 14,
     "metadata": {},
     "output_type": "execute_result"
    }
   ],
   "source": [
    "ind=np.where(A==3)\n",
    "print(ind)\n",
    "len(ind)"
   ]
  },
  {
   "cell_type": "markdown",
   "metadata": {},
   "source": [
    "Matrix multiplication is only possible when the sizes of the matrices fit. \n",
    "\n",
    "See what happens if you execute _A*B_ or *np.multiply(A,B)*."
   ]
  },
  {
   "cell_type": "code",
   "execution_count": 21,
   "metadata": {},
   "outputs": [
    {
     "name": "stdout",
     "output_type": "stream",
     "text": [
      "[[10 15 18 25]\n",
      " [16 24 29 40]]\n"
     ]
    },
    {
     "data": {
      "text/plain": [
       "matrix([[ 1,  4,  4, 16],\n",
       "        [ 4,  9, 16, 25],\n",
       "        [ 9, 16, 25, 36]])"
      ]
     },
     "execution_count": 21,
     "metadata": {},
     "output_type": "execute_result"
    }
   ],
   "source": [
    "B=[[2,1,2],[3,2,3]]\n",
    "print(B*A)\n",
    "np.multiply(A,A)"
   ]
  },
  {
   "cell_type": "markdown",
   "metadata": {},
   "source": [
    "More matrix operations\n",
    "\n"
   ]
  },
  {
   "cell_type": "code",
   "execution_count": 23,
   "metadata": {},
   "outputs": [
    {
     "name": "stdout",
     "output_type": "stream",
     "text": [
      "[[1 2 3]\n",
      " [2 3 4]\n",
      " [2 4 5]\n",
      " [4 5 6]]\n",
      "[[1 2 2 4]\n",
      " [2 3 4 5]]\n",
      "[[1 2 4]\n",
      " [2 4 5]\n",
      " [3 5 6]]\n"
     ]
    }
   ],
   "source": [
    "#matrix transpostion\n",
    "print(A.transpose())\n",
    "\n",
    "#delting a row or column\n",
    "\n",
    "print(np.delete(A,2,0))\n",
    "print(np.delete(A,1,1))"
   ]
  },
  {
   "cell_type": "markdown",
   "metadata": {},
   "source": [
    "Exercise 2 - Graphics\n",
    "--\n",
    "Graphics is done with the package _matplotlib_."
   ]
  },
  {
   "cell_type": "code",
   "execution_count": 30,
   "metadata": {},
   "outputs": [
    {
     "data": {
      "text/plain": [
       "Text(0, 0.5, 'Kelchblatt-Breite')"
      ]
     },
     "execution_count": 30,
     "metadata": {},
     "output_type": "execute_result"
    },
    {
     "data": {
      "image/png": "[encoded data removed]",
      "text/plain": [
       "<Figure size 432x288 with 1 Axes>"
      ]
     },
     "metadata": {
      "needs_background": "light"
     },
     "output_type": "display_data"
    }
   ],
   "source": [
    "import matplotlib.pyplot as plt\n",
    "from sklearn import datasets\n",
    "\n",
    "iris = datasets.load_iris()\n",
    "\n",
    "plt.scatter(iris.data[:, 0], iris.data[:, 1], c=iris.target)\n",
    "plt.xlabel('Sepal length')\n",
    "plt.ylabel('Sepal width')\n",
    "\n",
    "plt.title('Iris Data')\n",
    "plt.xlabel('Sepal length')\n",
    "plt.ylabel('Sepal width')\n",
    "\n"
   ]
  },
  {
   "cell_type": "markdown",
   "metadata": {},
   "source": [
    "Make a scatter plot of the  petal length (3rd column of *iris.data*) against petal width  (4th column of *iris.data*), such that the dots for the different species have different colours and symbols. Just change the code above."
   ]
  },
  {
   "cell_type": "markdown",
   "metadata": {},
   "source": [
    "You can plot functions like this:"
   ]
  },
  {
   "cell_type": "code",
   "execution_count": 44,
   "metadata": {},
   "outputs": [
    {
     "data": {
      "text/plain": [
       "(-1.5, 1.5)"
      ]
     },
     "execution_count": 44,
     "metadata": {},
     "output_type": "execute_result"
    },
    {
     "data": {
      "image/png": "[encoded data removed]",
      "text/plain": [
       "<Figure size 432x288 with 1 Axes>"
      ]
     },
     "metadata": {
      "needs_background": "light"
     },
     "output_type": "display_data"
    }
   ],
   "source": [
    "x=np.linspace(0,2*np.pi, num=100)\n",
    "plt.plot(x,np.sin(x))\n",
    "\n"
   ]
  },
  {
   "cell_type": "markdown",
   "metadata": {},
   "source": [
    "Add a sine wave with doubled frequency to the figure above. You can add a legend with *legend( ('label1', 'label2'), loc='lower left')*.\n",
    "\n",
    "You can change the range of the y-axis by *plt.ylim(-1.5,1.5)*, and analogously for the x-axis.\n"
   ]
  },
  {
   "cell_type": "markdown",
   "metadata": {},
   "source": [
    "Exercise 3 - Control Structures\n",
    "--\n",
    "For control structures in Python you simply use *:* and indentation.\n"
   ]
  },
  {
   "cell_type": "code",
   "execution_count": 47,
   "metadata": {},
   "outputs": [
    {
     "name": "stdout",
     "output_type": "stream",
     "text": [
      "positive value\n",
      "0.0\n",
      "0.06346651825433926\n",
      "0.12693303650867852\n",
      "0.1903995547630178\n",
      "0.25386607301735703\n",
      "0.3173325912716963\n",
      "0.3807991095260356\n",
      "0.4442656277803748\n",
      "0.5077321460347141\n",
      "0.5711986642890533\n",
      "0.0\n",
      "0.06346651825433926\n",
      "0.12693303650867852\n",
      "0.1903995547630178\n",
      "0.25386607301735703\n",
      "0.3173325912716963\n",
      "0.3807991095260356\n",
      "0.4442656277803748\n"
     ]
    }
   ],
   "source": [
    "if x[1]>0:\n",
    "    print('positive value')\n",
    "    \n",
    "for k in range(10):\n",
    "    print(x[k])\n",
    "    \n",
    "k=0\n",
    "while x[k]<0.5:\n",
    "    print(x[k])\n",
    "    k=k+1"
   ]
  },
  {
   "cell_type": "markdown",
   "metadata": {},
   "source": [
    "Calculate the factorial of a natural number $n$, first with\n",
    "help of *for* and then  with the help of *while*.\n",
    "\n",
    "Compare your version with *factorial* in the math package: https://hg.python.org/cpython/file/7937aa6b7e92/Modules/mathmodule.c#l1218\n",
    "\n",
    "\n",
    " Using \\texttt{if-elseif-else}, draw the Signum function in the range $-1$ to $1$, which is $-1$ for \n",
    "  negative numbers, $1$ for  positive numbers and $0$ at $0$."
   ]
  },
  {
   "cell_type": "code",
   "execution_count": 48,
   "metadata": {},
   "outputs": [],
   "source": [
    "#calculating the factorial of a natural number n"
   ]
  },
  {
   "cell_type": "markdown",
   "metadata": {},
   "source": [
    "Using *if-elif-else*, draw the Signum function in the range −1 to 1, which is −1 for negative numbers, 1 for positive numbers and 0 at 0. "
   ]
  },
  {
   "cell_type": "code",
   "execution_count": 51,
   "metadata": {},
   "outputs": [
    {
     "ename": "SyntaxError",
     "evalue": "invalid syntax (<ipython-input-51-0d2deafde3a4>, line 5)",
     "output_type": "error",
     "traceback": [
      "\u001b[1;36m  File \u001b[1;32m\"<ipython-input-51-0d2deafde3a4>\"\u001b[1;36m, line \u001b[1;32m5\u001b[0m\n\u001b[1;33m    if :\u001b[0m\n\u001b[1;37m       ^\u001b[0m\n\u001b[1;31mSyntaxError\u001b[0m\u001b[1;31m:\u001b[0m invalid syntax\n"
     ]
    }
   ],
   "source": [
    "x1=np.linspace(0,1, num=50)\n",
    "x2=np.linspace(-1,0, num=50)\n",
    "x=np.append(x2,x1)\n",
    "for k in range(100):\n",
    "    if :\n",
    "        plt.scatter()\n",
    "    elif :\n",
    "        plt.scatter()\n",
    "    else:\n",
    "        plt.scatter()"
   ]
  },
  {
   "cell_type": "markdown",
   "metadata": {},
   "source": [
    "Exercise 4 - Functions\n",
    "--\n",
    "A function in Python starts with\n",
    "\n",
    "*def name_of_function(name_of_function):*\n",
    "\n",
    "Then follows the function sequence with indentation. With _return()_ you define the output values of the function.\n",
    "\n",
    "You can choose the names for *name_of_function* and *name_of_function* yourself. As an example, you find below the Python function *doubled*, which doubles numbers."
   ]
  },
  {
   "cell_type": "code",
   "execution_count": 53,
   "metadata": {},
   "outputs": [
    {
     "data": {
      "text/plain": [
       "6"
      ]
     },
     "execution_count": 53,
     "metadata": {},
     "output_type": "execute_result"
    }
   ],
   "source": [
    "def doubled(x):\n",
    "    return(2*x)\n",
    "\n",
    "doubled(3)"
   ]
  },
  {
   "cell_type": "markdown",
   "metadata": {},
   "source": [
    "Write and test a function _swop(x,y)_, which\n",
    "    swaps the values of the input variables."
   ]
  },
  {
   "cell_type": "markdown",
   "metadata": {},
   "source": [
    "Exercise 5  - A challenge for you\n",
    "--\n",
    "\n",
    "a) Write a Python script that realizes the following game: The program chooses a random number between 0 and 100, then you are asked to guess the number. The program then tells you whether the number to guess is greater or smaller than the number you entered or whether you have guessed the number.\n",
    "\n",
    "b) Vary a) as follows: The program shows you a random number between 0 and 100. You guess whether the next random number is larger or smaller than the number just drawn. You may continue to guess until your guess is wrong. No number can be drawn twice in the course of a game. For each game, determine how many times the human player has guessed correctly. Play the game several times. How long does the game take on average?\n",
    "\n",
    "c) Implement the nim game: Any number of matches are placed on the table, two players may alternately take 1, 2 or 3 matches. Whoever takes the last match has lost the game.\n",
    "\n",
    "Implement the game so that either two people can play against each other or one person against the computer. \n",
    "\n",
    "This game has a winning strategy, i.e. whoever starts out with the right strategy can win in any case. Find out this winning strategy and implement the strategy for the computer as a player. Implement a simple graphical version of the game.\n"
   ]
  },
  {
   "cell_type": "code",
   "execution_count": null,
   "metadata": {},
   "outputs": [],
   "source": []
  },
  {
   "cell_type": "code",
   "execution_count": null,
   "metadata": {},
   "outputs": [],
   "source": []
  },
  {
   "cell_type": "code",
   "execution_count": null,
   "metadata": {},
   "outputs": [],
   "source": []
  }
 ],
 "metadata": {
  "kernelspec": {
   "display_name": "Python 3",
   "language": "python",
   "name": "python3"
  },
  "language_info": {
   "codemirror_mode": {
    "name": "ipython",
    "version": 3
   },
   "file_extension": ".py",
   "mimetype": "text/x-python",
   "name": "python",
   "nbconvert_exporter": "python",
   "pygments_lexer": "ipython3",
   "version": "3.7.4"
  }
 },
 "nbformat": 4,
 "nbformat_minor": 2
}
